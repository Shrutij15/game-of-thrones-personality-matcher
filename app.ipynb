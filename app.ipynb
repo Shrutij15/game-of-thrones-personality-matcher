{
 "cells": [
  {
   "cell_type": "code",
   "execution_count": 2,
   "metadata": {},
   "outputs": [],
   "source": [
    "import streamlit as st\n",
    "import pickle\n",
    "import requests\n",
    "import numpy as np\n",
    "\n",
    "api_data = requests.get(\"https://thronesapi.com/api/v2/Characters\").json()\n",
    "\n",
    "df = pickle.load(open('data.pkl','rb'))\n",
    "df = df.head(25)\n",
    "\n",
    "df['character'] = df['character'].str.replace('Jaime','Jamie')\n",
    "df['character'] = df['character'].str.replace('Lord Varys','Varys')\n",
    "df['character'] = df['character'].str.replace('Bronn','Lord Bronn')\n",
    "df['character'] = df['character'].str.replace('Sandor Clegane','The Hound')\n",
    "df['character'] = df['character'].str.replace('Robb Stark','Rob Stark')\n",
    "\n",
    "def fetch_image(name,api_data):\n",
    "    for item in api_data:\n",
    "        if item['fullName'] == name:\n",
    "            return item['imageUrl']\n",
    "\n",
    "\n",
    "\n",
    "st.title(\"Game Of Thrones Personality Matcher\")\n",
    "\n",
    "characters = df['character'].values\n",
    "\n",
    "selected_character = st.selectbox(\"Select a character\",characters)\n",
    "\n",
    "# fetch closest match\n",
    "character_id = np.where(df['character'].values == selected_character)[0][0]\n",
    "x = df[['x','y']].values\n",
    "\n",
    "distances = []\n",
    "for i in range(len(x)):\n",
    "    distances.append(np.linalg.norm(x[character_id] - x[i]))\n",
    "\n",
    "recommended_id = sorted(list(enumerate(distances)),key=lambda x:x[1])[1][0]\n",
    "recommended_character = df['character'].values[recommended_id]\n",
    "\n",
    "image_url = fetch_image(selected_character,api_data)\n",
    "recommended_character_image_url = fetch_image(recommended_character,api_data)\n",
    "col1, col2 = st.beta_columns(2)\n",
    "\n",
    "with col1:\n",
    "    st.header(selected_character)\n",
    "    st.image(image_url)\n",
    "with col2:\n",
    "    st.header(recommended_character)\n",
    "    st.image(recommended_character_image_url)"
   ]
  },
  {
   "cell_type": "code",
   "execution_count": null,
   "metadata": {},
   "outputs": [],
   "source": []
  }
 ],
 "metadata": {
  "kernelspec": {
   "display_name": "Python 3",
   "language": "python",
   "name": "python3"
  },
  "language_info": {
   "codemirror_mode": {
    "name": "ipython",
    "version": 3
   },
   "file_extension": ".py",
   "mimetype": "text/x-python",
   "name": "python",
   "nbconvert_exporter": "python",
   "pygments_lexer": "ipython3",
   "version": "3.8.5"
  }
 },
 "nbformat": 4,
 "nbformat_minor": 4
}
